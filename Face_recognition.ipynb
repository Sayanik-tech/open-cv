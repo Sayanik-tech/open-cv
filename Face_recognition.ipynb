{
 "cells": [
  {
   "cell_type": "code",
   "execution_count": 1,
   "metadata": {},
   "outputs": [
    {
     "name": "stdout",
     "output_type": "stream",
     "text": [
      "Training Done -------------\n",
      "Length of the features list = 85\n",
      "Length of the label list = 85\n"
     ]
    }
   ],
   "source": [
    "import os\n",
    "import cv2 as cv\n",
    "import numpy as np\n",
    "\n",
    "people =[]\n",
    "for i in os.listdir(r'A:\\Open_cv\\face_family'):\n",
    "    people.append(i)\n",
    "\n",
    "    \n",
    "Dir = r'A:\\Open_cv\\face_family'\n",
    "\n",
    "face_cascade = cv.CascadeClassifier('A:\\learnbay all downloads\\Data_Sets\\haar_face.xml')\n",
    "features=[]\n",
    "labels=[]\n",
    "\n",
    "def create_train():\n",
    "    for person in people:\n",
    "        path = os.path.join(Dir,person)\n",
    "        label = people.index(person)\n",
    "        \n",
    "        for img in os.listdir(path):\n",
    "            img_path = os.path.join(path,img)\n",
    "            \n",
    "            def rescaleframe(frame,scale = 0.75):\n",
    "                width = int(frame.shape[1]*scale)\n",
    "                height = int(frame.shape[0]*scale)\n",
    "                dimensions = (width,height)\n",
    "                return cv.resize(frame, dimensions, interpolation = cv.INTER_AREA)\n",
    "            \n",
    "            img_array = cv.imread(img_path)\n",
    "            image_resize = rescaleframe(img_array,scale = 0.2)\n",
    "            gray = cv.cvtColor(image_resize,cv.COLOR_BGR2GRAY)\n",
    "            \n",
    "            faces = face_cascade.detectMultiScale(gray,1.1,3)\n",
    "            \n",
    "            for (x,y,w,h) in faces:\n",
    "                faces_roi = gray[y:y+h , x:x+w]\n",
    "                \n",
    "                features.append(faces_roi)\n",
    "                labels.append(label)\n",
    "                \n",
    "create_train()\n",
    "\n",
    "print('Training Done -------------')\n",
    "\n",
    "features = np.array(features,dtype='object')\n",
    "labels = np.array(labels)\n",
    "\n",
    "print(f'Length of the features list = {len(features)}')\n",
    "print(f'Length of the label list = {len(labels)}')\n",
    "\n",
    "\n",
    "face_recognizer = cv.face.LBPHFaceRecognizer_create()\n",
    "\n",
    "#Train the recognizer on the features list and the labels list\n",
    "face_recognizer.train(features,labels)\n",
    "\n",
    "#saving the file\n",
    "face_recognizer.save('face_trained.yml')\n",
    "np.save('features.npy',features)\n",
    "np.save('labels.npy',labels)"
   ]
  },
  {
   "cell_type": "code",
   "execution_count": null,
   "metadata": {},
   "outputs": [],
   "source": [
    "cv.__version__"
   ]
  },
  {
   "cell_type": "code",
   "execution_count": null,
   "metadata": {},
   "outputs": [],
   "source": []
  },
  {
   "cell_type": "code",
   "execution_count": null,
   "metadata": {},
   "outputs": [],
   "source": []
  },
  {
   "cell_type": "code",
   "execution_count": null,
   "metadata": {},
   "outputs": [],
   "source": []
  },
  {
   "cell_type": "code",
   "execution_count": null,
   "metadata": {},
   "outputs": [],
   "source": []
  },
  {
   "cell_type": "code",
   "execution_count": null,
   "metadata": {},
   "outputs": [],
   "source": []
  },
  {
   "cell_type": "code",
   "execution_count": null,
   "metadata": {},
   "outputs": [],
   "source": []
  },
  {
   "cell_type": "code",
   "execution_count": null,
   "metadata": {},
   "outputs": [],
   "source": []
  },
  {
   "cell_type": "code",
   "execution_count": null,
   "metadata": {},
   "outputs": [],
   "source": []
  },
  {
   "cell_type": "code",
   "execution_count": null,
   "metadata": {},
   "outputs": [],
   "source": []
  }
 ],
 "metadata": {
  "kernelspec": {
   "display_name": "Python 3 (ipykernel)",
   "language": "python",
   "name": "python3"
  },
  "language_info": {
   "codemirror_mode": {
    "name": "ipython",
    "version": 3
   },
   "file_extension": ".py",
   "mimetype": "text/x-python",
   "name": "python",
   "nbconvert_exporter": "python",
   "pygments_lexer": "ipython3",
   "version": "3.8.5"
  }
 },
 "nbformat": 4,
 "nbformat_minor": 4
}
