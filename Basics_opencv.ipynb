{
 "cells": [
  {
   "cell_type": "code",
   "execution_count": 1,
   "metadata": {},
   "outputs": [
    {
     "name": "stdout",
     "output_type": "stream",
     "text": [
      "Requirement already satisfied: opencv-contrib-python in c:\\users\\sayanik\\anaconda3\\lib\\site-packages (4.5.4.60)\n",
      "Requirement already satisfied: numpy>=1.17.3 in c:\\users\\sayanik\\anaconda3\\lib\\site-packages (from opencv-contrib-python) (1.19.2)\n",
      "Note: you may need to restart the kernel to use updated packages.\n"
     ]
    }
   ],
   "source": [
    "pip install opencv-contrib-python"
   ]
  },
  {
   "cell_type": "code",
   "execution_count": 2,
   "metadata": {},
   "outputs": [
    {
     "name": "stdout",
     "output_type": "stream",
     "text": [
      "Requirement already satisfied: caer in c:\\users\\sayanik\\anaconda3\\lib\\site-packages (2.0.8)Note: you may need to restart the kernel to use updated packages.\n",
      "Requirement already satisfied: mypy in c:\\users\\sayanik\\anaconda3\\lib\\site-packages (from caer) (0.910)\n",
      "Requirement already satisfied: numpy in c:\\users\\sayanik\\anaconda3\\lib\\site-packages (from caer) (1.19.2)\n",
      "Requirement already satisfied: opencv-contrib-python in c:\\users\\sayanik\\anaconda3\\lib\\site-packages (from caer) (4.5.4.60)\n",
      "Requirement already satisfied: typing-extensions in c:\\users\\sayanik\\anaconda3\\lib\\site-packages (from caer) (3.7.4.3)\n",
      "Requirement already satisfied: mypy-extensions<0.5.0,>=0.4.3 in c:\\users\\sayanik\\anaconda3\\lib\\site-packages (from mypy->caer) (0.4.3)\n",
      "Requirement already satisfied: toml in c:\\users\\sayanik\\anaconda3\\lib\\site-packages (from mypy->caer) (0.10.1)\n",
      "\n"
     ]
    }
   ],
   "source": [
    "pip install caer"
   ]
  },
  {
   "cell_type": "markdown",
   "metadata": {},
   "source": [
    "# reading images and videos"
   ]
  },
  {
   "cell_type": "code",
   "execution_count": 3,
   "metadata": {},
   "outputs": [],
   "source": [
    "import cv2 as cv"
   ]
  },
  {
   "cell_type": "code",
   "execution_count": 4,
   "metadata": {},
   "outputs": [],
   "source": [
    "#img = cv.imread('A:\\picture\\Shillong & Guwahati\\IMG_4699.jpg')"
   ]
  },
  {
   "cell_type": "code",
   "execution_count": 5,
   "metadata": {},
   "outputs": [],
   "source": [
    "#cv.imshow('Dawki' , img)\n",
    "#cv.waitKey(0)"
   ]
  },
  {
   "cell_type": "code",
   "execution_count": 6,
   "metadata": {},
   "outputs": [],
   "source": [
    "capture = cv.VideoCapture('A:\\Movies\\pexels-pat-whelen-5658056.mp4')"
   ]
  },
  {
   "cell_type": "code",
   "execution_count": 7,
   "metadata": {},
   "outputs": [],
   "source": [
    "while True:\n",
    "    isTrue,frame = capture.read()\n",
    "    cv.imshow('video',frame)\n",
    "    if cv.waitKey(20) & 0xFF == ord('d'):\n",
    "        break\n",
    "capture.release()\n",
    "cv.destroyAllWindows()"
   ]
  },
  {
   "cell_type": "markdown",
   "metadata": {},
   "source": [
    "# Rescaling The images and videos"
   ]
  },
  {
   "cell_type": "code",
   "execution_count": 8,
   "metadata": {},
   "outputs": [],
   "source": [
    "def rescaleframe(frame,scale = 0.75):\n",
    "    width = int(frame.shape[1]*scale)\n",
    "    height = int(frame.shape[0]*scale)\n",
    "    dimensions = (width,height)\n",
    "    return cv.resize(frame, dimensions, interpolation = cv.INTER_AREA)"
   ]
  },
  {
   "cell_type": "code",
   "execution_count": 9,
   "metadata": {},
   "outputs": [
    {
     "data": {
      "text/plain": [
       "-1"
      ]
     },
     "execution_count": 9,
     "metadata": {},
     "output_type": "execute_result"
    }
   ],
   "source": [
    "# reading images\n",
    "import cv2 as cv\n",
    "img = cv.imread('A:\\picture\\Shillong & Guwahati\\IMG_4699.jpg')\n",
    "\n",
    "image_resize = rescaleframe(img,scale = 0.2)\n",
    "\n",
    "cv.imshow('maa' , img)\n",
    "cv.imshow('maa1' , image_resize)\n",
    "\n",
    "cv.waitKey(0)"
   ]
  },
  {
   "cell_type": "code",
   "execution_count": 10,
   "metadata": {},
   "outputs": [],
   "source": [
    "#Reading Videos\n",
    "import cv2 as cv\n",
    "capture = cv.VideoCapture('A:\\Movies\\pexels-pat-whelen-5658056.mp4')\n",
    "while True:\n",
    "    isTrue,frame = capture.read()\n",
    "    frame_resize = rescaleframe(frame,scale = 0.4)\n",
    "    \n",
    "    cv.imshow('video', frame)\n",
    "    cv.imshow('resized_video' ,frame_resize)\n",
    "    \n",
    "    if cv.waitKey(20) & 0xFF == ord('d'):\n",
    "        break\n",
    "        \n",
    "capture.release()\n",
    "cv.destroyAllWindows()"
   ]
  },
  {
   "cell_type": "code",
   "execution_count": 11,
   "metadata": {},
   "outputs": [],
   "source": [
    "# another method of rescaling the live videos\n",
    "\n",
    "#def changeres(width,height):\n",
    "    #capture.set(3,width)\n",
    "    #capture.set(4,height)"
   ]
  },
  {
   "cell_type": "markdown",
   "metadata": {},
   "source": [
    "# Drawing Shapes & Putting Text"
   ]
  },
  {
   "cell_type": "code",
   "execution_count": 11,
   "metadata": {},
   "outputs": [
    {
     "data": {
      "text/plain": [
       "-1"
      ]
     },
     "execution_count": 11,
     "metadata": {},
     "output_type": "execute_result"
    }
   ],
   "source": [
    "import cv2 as cv\n",
    "import numpy as np\n",
    "img = cv.imread('A:\\picture\\Shillong & Guwahati\\IMG_4699.jpg')\n",
    "cv.imshow('ma',img)\n",
    "cv.waitKey(0)"
   ]
  },
  {
   "cell_type": "code",
   "execution_count": 2,
   "metadata": {},
   "outputs": [
    {
     "data": {
      "text/plain": [
       "-1"
      ]
     },
     "execution_count": 2,
     "metadata": {},
     "output_type": "execute_result"
    }
   ],
   "source": [
    "import cv2 as cv\n",
    "import numpy as np\n",
    "blank = np.zeros((500,500,3),dtype = 'uint8')\n",
    "cv.imshow('Blank',blank)\n",
    "\n",
    "#blank[100:200,300:400] = 0,255,0\n",
    "#cv.imshow('Coloured',blank)\n",
    "\n",
    "# Draw a rectangle\n",
    "cv.rectangle(blank,(0,0),(300,500),(0,0,255),thickness = cv.FILLED)\n",
    "cv.imshow('rectangle',blank)\n",
    "\n",
    "cv.waitKey(0)"
   ]
  },
  {
   "cell_type": "code",
   "execution_count": 3,
   "metadata": {},
   "outputs": [
    {
     "data": {
      "text/plain": [
       "-1"
      ]
     },
     "execution_count": 3,
     "metadata": {},
     "output_type": "execute_result"
    }
   ],
   "source": [
    "# Draw a circle and draw a line\n",
    "import cv2 as cv\n",
    "import numpy as np\n",
    "blank = np.zeros((500,500,3),dtype ='uint8')\n",
    "\n",
    "cv.circle(blank, (blank.shape[1]//2 , blank.shape[0]//2) , 100 ,(255,0,0), thickness = cv.FILLED)\n",
    "cv.imshow('circle',blank)\n",
    "\n",
    "cv.line(blank,(0,0),(250,250),(255,255,255),thickness = 5)\n",
    "cv.imshow('line',blank)\n",
    "\n",
    "cv.waitKey(0)"
   ]
  },
  {
   "cell_type": "code",
   "execution_count": 14,
   "metadata": {},
   "outputs": [],
   "source": [
    "# write Text on an image"
   ]
  },
  {
   "cell_type": "code",
   "execution_count": 15,
   "metadata": {},
   "outputs": [
    {
     "data": {
      "text/plain": [
       "-1"
      ]
     },
     "execution_count": 15,
     "metadata": {},
     "output_type": "execute_result"
    }
   ],
   "source": [
    "import cv2 as cv\n",
    "import numpy as np\n",
    "blank = np.zeros((500,500,3),dtype ='uint8')\n",
    "cv.putText(blank, 'My name is Sayanik!!', (60,250), cv.FONT_HERSHEY_TRIPLEX, 1.0 , (0,255,0),1)\n",
    "cv.imshow('Text',blank)\n",
    "cv.waitKey(0)"
   ]
  },
  {
   "cell_type": "markdown",
   "metadata": {},
   "source": [
    "# Basic Functions Of OPEN_CV"
   ]
  },
  {
   "cell_type": "code",
   "execution_count": 16,
   "metadata": {},
   "outputs": [
    {
     "data": {
      "text/plain": [
       "-1"
      ]
     },
     "execution_count": 16,
     "metadata": {},
     "output_type": "execute_result"
    }
   ],
   "source": [
    "#Converting to gray scale image\n",
    "import cv2 as cv\n",
    "def rescaleframe(frame,scale = 0.75):\n",
    "    width = int(frame.shape[1]*scale)\n",
    "    height = int(frame.shape[0]*scale)\n",
    "    dimensions = (width,height)\n",
    "    return cv.resize(frame, dimensions, interpolation = cv.INTER_AREA)\n",
    "\n",
    "\n",
    "pic = cv.imread('A:\\Movies\\Tiger.jpg')\n",
    "image_resize = rescaleframe(pic,scale = 0.2)\n",
    "cv.imshow('Tiger',image_resize)\n",
    "\n",
    "gray = cv.cvtColor(pic , cv.COLOR_BGR2GRAY)\n",
    "image_resize = rescaleframe(gray,scale = 0.2) \n",
    "cv.imshow('Gray', image_resize)\n",
    "\n",
    "cv.waitKey(0)"
   ]
  },
  {
   "cell_type": "markdown",
   "metadata": {},
   "source": [
    "# Blurring Image"
   ]
  },
  {
   "cell_type": "code",
   "execution_count": 17,
   "metadata": {},
   "outputs": [
    {
     "data": {
      "text/plain": [
       "-1"
      ]
     },
     "execution_count": 17,
     "metadata": {},
     "output_type": "execute_result"
    }
   ],
   "source": [
    "import cv2 as cv\n",
    "def rescaleframe(frame,scale = 0.75):\n",
    "    width = int(frame.shape[1]*scale)\n",
    "    height = int(frame.shape[0]*scale)\n",
    "    dimensions = (width,height)\n",
    "    return cv.resize(frame, dimensions, interpolation = cv.INTER_AREA)\n",
    "\n",
    "pic = cv.imread('A:\\Movies\\Tiger.jpg')\n",
    "image_resize = rescaleframe(pic,scale = 0.2)\n",
    "cv.imshow('Tiger',image_resize)\n",
    "\n",
    "blur = cv.GaussianBlur(pic , (7,7), cv.BORDER_DEFAULT)\n",
    "image_resize = rescaleframe(blur,scale = 0.2)\n",
    "cv.imshow('Blur',image_resize)\n",
    "\n",
    "cv.waitKey(0)"
   ]
  },
  {
   "cell_type": "markdown",
   "metadata": {},
   "source": [
    "# Edge Cascading"
   ]
  },
  {
   "cell_type": "code",
   "execution_count": 18,
   "metadata": {},
   "outputs": [
    {
     "data": {
      "text/plain": [
       "-1"
      ]
     },
     "execution_count": 18,
     "metadata": {},
     "output_type": "execute_result"
    }
   ],
   "source": [
    "import cv2 as cv\n",
    "def rescaleframe(frame,scale = 0.75):\n",
    "    width = int(frame.shape[1]*scale)\n",
    "    height = int(frame.shape[0]*scale)\n",
    "    dimensions = (width,height)\n",
    "    return cv.resize(frame, dimensions, interpolation = cv.INTER_AREA)\n",
    "\n",
    "pic = cv.imread('A:\\Movies\\Tiger.jpg')\n",
    "image_resize = rescaleframe(pic,scale = 0.2)\n",
    "cv.imshow('Tiger',image_resize)\n",
    "\n",
    "canny = cv.Canny(pic,125,175)\n",
    "image_resize = rescaleframe(canny,scale = 0.2)\n",
    "cv.imshow('Canny Edges',image_resize)\n",
    "\n",
    "#Dilating image\n",
    "dilated = cv.dilate(canny, (7,7), iterations=3)\n",
    "image_resize = rescaleframe(dilated,scale = 0.2)\n",
    "cv.imshow('dilated image',image_resize)\n",
    "\n",
    "#eroding\n",
    "erode = cv.erode(dilated,(7,7),iterations = 7)\n",
    "image_resize1 = rescaleframe(erode,scale = 0.2)\n",
    "cv.imshow('eroded images',image_resize1)\n",
    "\n",
    "#resize\n",
    "resized = cv.resize(pic,(700,700))\n",
    "image_resize1 = rescaleframe(resized,scale = 0.2)\n",
    "cv.imshow('resized images',image_resize1)\n",
    "\n",
    "#cropping\n",
    "cropped = pic[50:200,200:400]\n",
    "cv.imshow('Cropped',cropped)\n",
    "\n",
    "cv.waitKey(0)"
   ]
  },
  {
   "cell_type": "markdown",
   "metadata": {},
   "source": [
    "# Image Transformations"
   ]
  },
  {
   "cell_type": "code",
   "execution_count": 19,
   "metadata": {},
   "outputs": [
    {
     "data": {
      "text/plain": [
       "-1"
      ]
     },
     "execution_count": 19,
     "metadata": {},
     "output_type": "execute_result"
    }
   ],
   "source": [
    "import cv2 as cv\n",
    "def rescaleframe(frame,scale = 0.75):\n",
    "    width = int(frame.shape[1]*scale)\n",
    "    height = int(frame.shape[0]*scale)\n",
    "    dimensions = (width,height)\n",
    "    return cv.resize(frame, dimensions, interpolation = cv.INTER_AREA)\n",
    "\n",
    "pic = cv.imread('A:\\Movies\\leisure.jpg')\n",
    "image_resize = rescaleframe(pic,scale = 0.15)\n",
    "cv.imshow('sea',image_resize)\n",
    "cv.waitKey(0)"
   ]
  },
  {
   "cell_type": "markdown",
   "metadata": {},
   "source": [
    "# Translation & Rotation & Resize & Flipping & Cropping"
   ]
  },
  {
   "cell_type": "code",
   "execution_count": 37,
   "metadata": {},
   "outputs": [
    {
     "data": {
      "text/plain": [
       "-1"
      ]
     },
     "execution_count": 37,
     "metadata": {},
     "output_type": "execute_result"
    }
   ],
   "source": [
    "import cv2 as cv\n",
    "import numpy as np\n",
    "def rescaleframe(frame,scale = 0.75):\n",
    "    width = int(frame.shape[1]*scale)\n",
    "    height = int(frame.shape[0]*scale)\n",
    "    dimensions = (width,height)\n",
    "    return cv.resize(frame, dimensions, interpolation = cv.INTER_AREA)\n",
    "\n",
    "pic = cv.imread('A:\\Movies\\leisure.jpg')\n",
    "image_resize = rescaleframe(pic,scale = 0.1)\n",
    "cv.imshow('sea',image_resize)\n",
    "\n",
    "# Translation\n",
    "def translate(pic,x,y):\n",
    "    transmat = np.float32([[1,0,x],[0,1,y]])\n",
    "    dimensions = (pic.shape[1], pic.shape[0])\n",
    "    return cv.warpAffine(pic,transmat,dimensions)\n",
    "\n",
    "image_resize = rescaleframe(pic,scale = 0.1)\n",
    "translated = translate(image_resize,100,-150)\n",
    "cv.imshow('Translated',translated)\n",
    "\n",
    "#Rotation\n",
    "def rotate(pic,angle,rotPoint=None):\n",
    "    (height,width) = pic.shape[:2]\n",
    "    if rotPoint is None:\n",
    "        rotPoint=(width//2,height//2)\n",
    "    \n",
    "    rotMat = cv.getRotationMatrix2D(rotPoint,angle,1.0)\n",
    "    dimensions = (width,height)\n",
    "    \n",
    "    return cv.warpAffine(pic,rotMat,dimensions)\n",
    "\n",
    "image_resize = rescaleframe(pic,scale = 0.1)\n",
    "rotated = rotate(image_resize,-90)\n",
    "cv.imshow('Rotated',rotated)\n",
    "\n",
    "#resizing\n",
    "resized = cv.resize(pic,(1000,1000),interpolation =cv.INTER_CUBIC)\n",
    "image_resize = rescaleframe(pic,scale = 0.1)\n",
    "cv.imshow('Resized',image_resize)\n",
    "\n",
    "#Flipping\n",
    "image_resize = rescaleframe(pic,scale = 0.1)\n",
    "flip = cv.flip(image_resize,-1) #0:vertically flip,1:horizotally flip,-1:vertically and horizontally\n",
    "cv.imshow('Flip',flip)\n",
    "\n",
    "#Cropping\n",
    "image_resize = rescaleframe(pic,scale = 0.1)\n",
    "cropped = image_resize[200:300,100:250]\n",
    "cv.imshow('Cropped',cropped)\n",
    "\n",
    "cv.waitKey(0)"
   ]
  },
  {
   "cell_type": "markdown",
   "metadata": {},
   "source": [
    "# Contour Detection"
   ]
  },
  {
   "cell_type": "code",
   "execution_count": 1,
   "metadata": {},
   "outputs": [
    {
     "name": "stdout",
     "output_type": "stream",
     "text": [
      "185\n"
     ]
    },
    {
     "data": {
      "text/plain": [
       "-1"
      ]
     },
     "execution_count": 1,
     "metadata": {},
     "output_type": "execute_result"
    }
   ],
   "source": [
    "import cv2 as cv\n",
    "def rescaleframe(frame,scale = 0.75):\n",
    "    width = int(frame.shape[1]*scale)\n",
    "    height = int(frame.shape[0]*scale)\n",
    "    dimensions = (width,height)\n",
    "    return cv.resize(frame, dimensions, interpolation = cv.INTER_AREA)\n",
    "\n",
    "pic = cv.imread('A:\\Movies\\Tiger.jpg')\n",
    "image_resize = rescaleframe(pic,scale = 0.2)\n",
    "cv.imshow('Tiger',image_resize)\n",
    "\n",
    "gray = cv.cvtColor(image_resize,cv.COLOR_BGR2GRAY)\n",
    "cv.imshow('Gray',gray)\n",
    "\n",
    "blur = cv.GaussianBlur(gray, (7,7), cv.BORDER_DEFAULT)\n",
    "cv.imshow('Blurred',blur)\n",
    "\n",
    "canny = cv.Canny(blur,125,175)\n",
    "cv.imshow('Canny Edges',canny)\n",
    "\n",
    "contours,hierarchies = cv.findContours(canny,cv.RETR_LIST,cv.CHAIN_APPROX_SIMPLE)\n",
    "print(len(contours))\n",
    "\n",
    "cv.waitKey(0)"
   ]
  },
  {
   "cell_type": "code",
   "execution_count": null,
   "metadata": {},
   "outputs": [],
   "source": []
  },
  {
   "cell_type": "code",
   "execution_count": null,
   "metadata": {},
   "outputs": [],
   "source": []
  },
  {
   "cell_type": "code",
   "execution_count": null,
   "metadata": {},
   "outputs": [],
   "source": []
  },
  {
   "cell_type": "code",
   "execution_count": null,
   "metadata": {},
   "outputs": [],
   "source": []
  },
  {
   "cell_type": "code",
   "execution_count": null,
   "metadata": {},
   "outputs": [],
   "source": []
  }
 ],
 "metadata": {
  "kernelspec": {
   "display_name": "Python 3 (ipykernel)",
   "language": "python",
   "name": "python3"
  },
  "language_info": {
   "codemirror_mode": {
    "name": "ipython",
    "version": 3
   },
   "file_extension": ".py",
   "mimetype": "text/x-python",
   "name": "python",
   "nbconvert_exporter": "python",
   "pygments_lexer": "ipython3",
   "version": "3.8.5"
  }
 },
 "nbformat": 4,
 "nbformat_minor": 4
}
