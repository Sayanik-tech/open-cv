{
 "cells": [
  {
   "cell_type": "markdown",
   "metadata": {},
   "source": [
    "# Color Spaces"
   ]
  },
  {
   "cell_type": "code",
   "execution_count": 8,
   "metadata": {},
   "outputs": [
    {
     "data": {
      "text/plain": [
       "27"
      ]
     },
     "execution_count": 8,
     "metadata": {},
     "output_type": "execute_result"
    }
   ],
   "source": [
    "import cv2 as cv\n",
    "import numpy as np\n",
    "def rescaleframe(frame,scale = 0.75):\n",
    "    width = int(frame.shape[1]*scale)\n",
    "    height = int(frame.shape[0]*scale)\n",
    "    dimensions = (width,height)\n",
    "    return cv.resize(frame, dimensions, interpolation = cv.INTER_AREA)\n",
    "\n",
    "pic = cv.imread('A:\\Movies\\leisure.jpg')\n",
    "image_resize = rescaleframe(pic,scale = 0.15)\n",
    "cv.imshow('sea',image_resize)\n",
    "\n",
    "#BGR to Grayscale\n",
    "gray = cv.cvtColor(image_resize, cv.COLOR_BGR2GRAY)\n",
    "cv.imshow('Gray',gray)\n",
    "\n",
    "#BGR to HSV\n",
    "hsv = cv.cvtColor(image_resize,cv.COLOR_BGR2HSV)\n",
    "cv.imshow('HSV',hsv)\n",
    "\n",
    "#BGR to LAB\n",
    "lab = cv.cvtColor(image_resize,cv.COLOR_BGR2LAB)\n",
    "cv.imshow('LAB',lab)\n",
    "\n",
    "cv.waitKey(0)"
   ]
  },
  {
   "cell_type": "code",
   "execution_count": null,
   "metadata": {},
   "outputs": [],
   "source": [
    "# the inverse of color spaces is also applicable.....but first convert to BGR images then convert to any other images....you can not convert\n",
    "# directly from GRAY to HSV"
   ]
  },
  {
   "cell_type": "markdown",
   "metadata": {},
   "source": [
    "# color Channels"
   ]
  },
  {
   "cell_type": "code",
   "execution_count": 2,
   "metadata": {},
   "outputs": [
    {
     "name": "stdout",
     "output_type": "stream",
     "text": [
      "(345, 518, 3)\n",
      "(345, 518)\n",
      "(345, 518)\n",
      "(345, 518)\n"
     ]
    },
    {
     "data": {
      "text/plain": [
       "-1"
      ]
     },
     "execution_count": 2,
     "metadata": {},
     "output_type": "execute_result"
    }
   ],
   "source": [
    "import cv2 as cv\n",
    "def rescaleframe(frame,scale = 0.75):\n",
    "    width = int(frame.shape[1]*scale)\n",
    "    height = int(frame.shape[0]*scale)\n",
    "    dimensions = (width,height)\n",
    "    return cv.resize(frame, dimensions, interpolation = cv.INTER_AREA)\n",
    "\n",
    "pic = cv.imread('A:\\Movies\\Bhutan.jpg')\n",
    "image_resize = rescaleframe(pic,scale = 0.1)\n",
    "cv.imshow('nature',image_resize)\n",
    "\n",
    "b,g,r = cv.split(image_resize)\n",
    "\n",
    "cv.imshow('Blue',b)\n",
    "cv.imshow('Green',g)\n",
    "cv.imshow('Red',r)\n",
    "\n",
    "print(image_resize.shape)\n",
    "print(b.shape)\n",
    "print(g.shape)\n",
    "print(r.shape)\n",
    "\n",
    "#Merging\n",
    "merged = cv.merge([b,g,r])\n",
    "cv.imshow('Merged image',merged)\n",
    "\n",
    "cv.waitKey(0)"
   ]
  },
  {
   "cell_type": "code",
   "execution_count": 1,
   "metadata": {},
   "outputs": [
    {
     "data": {
      "text/plain": [
       "-1"
      ]
     },
     "execution_count": 1,
     "metadata": {},
     "output_type": "execute_result"
    }
   ],
   "source": [
    "import cv2 as cv\n",
    "import numpy as np\n",
    "def rescaleframe(frame,scale = 0.75):\n",
    "    width = int(frame.shape[1]*scale)\n",
    "    height = int(frame.shape[0]*scale)\n",
    "    dimensions = (width,height)\n",
    "    return cv.resize(frame, dimensions, interpolation = cv.INTER_AREA)\n",
    "\n",
    "pic = cv.imread('A:\\Movies\\Bhutan.jpg')\n",
    "image_resize = rescaleframe(pic,scale = 0.1)\n",
    "cv.imshow('nature',image_resize)\n",
    "\n",
    "blank = np.zeros(image_resize.shape[:2], dtype='uint8')\n",
    "b,g,r = cv.split(image_resize)\n",
    "\n",
    "blue = cv.merge([b,blank,blank])\n",
    "green = cv.merge([blank,g,blank])\n",
    "red = cv.merge([blank,blank,r])\n",
    "\n",
    "cv.imshow('Blue',blue)\n",
    "cv.imshow('Green',green)\n",
    "cv.imshow('Red',red)\n",
    "\n",
    "#merged = cv.merge([blue,green,red])\n",
    "#cv.imshow('image',merged)\n",
    "\n",
    "cv.waitKey(0)"
   ]
  },
  {
   "cell_type": "markdown",
   "metadata": {},
   "source": [
    "# Blurring techniques"
   ]
  },
  {
   "cell_type": "code",
   "execution_count": 1,
   "metadata": {},
   "outputs": [
    {
     "data": {
      "text/plain": [
       "-1"
      ]
     },
     "execution_count": 1,
     "metadata": {},
     "output_type": "execute_result"
    }
   ],
   "source": [
    "import cv2 as cv\n",
    "def rescaleframe(frame,scale = 0.75):\n",
    "    width = int(frame.shape[1]*scale)\n",
    "    height = int(frame.shape[0]*scale)\n",
    "    dimensions = (width,height)\n",
    "    return cv.resize(frame, dimensions, interpolation = cv.INTER_AREA)\n",
    "\n",
    "pic = cv.imread('A:\\Movies\\Bhutan.jpg')\n",
    "image_resize = rescaleframe(pic,scale = 0.1)\n",
    "cv.imshow('nature',image_resize)\n",
    "\n",
    "#Averaging\n",
    "average = cv.blur(image_resize,(3,3))\n",
    "cv.imshow('Average Blur',average)\n",
    "\n",
    "#Gaussian Blur\n",
    "gauss = cv.GaussianBlur(image_resize,(3,3),0)\n",
    "cv.imshow('Gaussian Blur',gauss)\n",
    "\n",
    "#Median Blur\n",
    "median = cv.medianBlur(image_resize,3)\n",
    "cv.imshow('Median Blur',median)\n",
    "\n",
    "#Bilateral\n",
    "bilateral = cv.bilateralFilter(image_resize,15,25,25)\n",
    "cv.imshow('Bilateral Blur',bilateral)\n",
    "\n",
    "cv.waitKey(0)"
   ]
  },
  {
   "cell_type": "markdown",
   "metadata": {},
   "source": [
    "# Bitwise operation"
   ]
  },
  {
   "cell_type": "code",
   "execution_count": 18,
   "metadata": {},
   "outputs": [
    {
     "data": {
      "text/plain": [
       "-1"
      ]
     },
     "execution_count": 18,
     "metadata": {},
     "output_type": "execute_result"
    }
   ],
   "source": [
    "import cv2 as cv\n",
    "import numpy as np\n",
    "blank = np.zeros((500,500), dtype = 'uint8')\n",
    "\n",
    "rectangle = cv.rectangle(blank.copy(),(50,50),(400,400),255,thickness = cv.FILLED)\n",
    "circle = cv.circle(blank.copy(),(250,250),200,255,-1)\n",
    "\n",
    "cv.imshow('Rectangle',rectangle)\n",
    "cv.imshow('Circle',circle)\n",
    "\n",
    "#Bit_wise AND (intersecting region)\n",
    "bitwise_and = cv.bitwise_and(circle,rectangle)\n",
    "cv.imshow('Bitwise_and',bitwise_and)\n",
    "\n",
    "#Bit_wise OR (intersecting and non intersecting region)\n",
    "bitwise_or = cv.bitwise_or(circle,rectangle)\n",
    "cv.imshow('Bitwise_or',bitwise_or)\n",
    "\n",
    "#bitwise_XOR (non intersecting region)\n",
    "bitwise_xor = cv.bitwise_xor(circle,rectangle)\n",
    "cv.imshow('bitwise_xor',bitwise_xor)\n",
    "\n",
    "#Bit wise not\n",
    "bitwise_not = cv.bitwise_not(rectangle)\n",
    "cv.imshow('Rectangle_Not',bitwise_not)\n",
    "\n",
    "cv.waitKey(0)"
   ]
  },
  {
   "cell_type": "markdown",
   "metadata": {},
   "source": [
    "# Masking"
   ]
  },
  {
   "cell_type": "code",
   "execution_count": 9,
   "metadata": {},
   "outputs": [
    {
     "data": {
      "text/plain": [
       "-1"
      ]
     },
     "execution_count": 9,
     "metadata": {},
     "output_type": "execute_result"
    }
   ],
   "source": [
    "import cv2 as cv\n",
    "import numpy as np\n",
    "def rescaleframe(frame,scale = 0.75):\n",
    "    width = int(frame.shape[1]*scale)\n",
    "    height = int(frame.shape[0]*scale)\n",
    "    dimensions = (width,height)\n",
    "    return cv.resize(frame, dimensions, interpolation = cv.INTER_AREA)\n",
    "\n",
    "pic = cv.imread('A:\\Movies\\Bhutan.jpg')\n",
    "image_resize = rescaleframe(pic,scale = 0.1)\n",
    "cv.imshow('Bhutan',image_resize)\n",
    "\n",
    "blank = np.zeros(image_resize.shape[:2], dtype='uint8')\n",
    "cv.imshow('Blank Image',blank)\n",
    "\n",
    "mask = cv.circle(blank,(image_resize.shape[1]//2,image_resize.shape[0]//2),100,255,thickness = cv.FILLED)\n",
    "cv.imshow('Masked Image',mask)\n",
    "\n",
    "masked = cv.bitwise_and(image_resize,image_resize,mask=mask)\n",
    "cv.imshow('Masked',masked)\n",
    "\n",
    "rectangle = cv.rectangle(blank.copy(),(50,50),(400,400),255,thickness = cv.FILLED)\n",
    "circle = cv.circle(blank.copy(),(250,250),200,255,-1)\n",
    "weired_shape = cv.bitwise_and(circle,rectangle)\n",
    "cv.imshow('weired_shape',weired_shape)\n",
    "masked_new = cv.bitwise_and(image_resize,image_resize,mask=weired_shape)\n",
    "cv.imshow('masked_new',masked_new)\n",
    "\n",
    "cv.waitKey(0)"
   ]
  },
  {
   "cell_type": "markdown",
   "metadata": {},
   "source": [
    "# Computing Histogram"
   ]
  },
  {
   "cell_type": "code",
   "execution_count": 2,
   "metadata": {},
   "outputs": [
    {
     "data": {
      "image/png": "[encoded data removed]",
      "text/plain": [
       "<Figure size 432x288 with 1 Axes>"
      ]
     },
     "metadata": {
      "needs_background": "light"
     },
     "output_type": "display_data"
    },
    {
     "data": {
      "text/plain": [
       "-1"
      ]
     },
     "execution_count": 2,
     "metadata": {},
     "output_type": "execute_result"
    }
   ],
   "source": [
    "import cv2 as cv\n",
    "import numpy as np\n",
    "import matplotlib.pyplot as plt\n",
    "def rescaleframe(frame,scale = 0.75):\n",
    "    width = int(frame.shape[1]*scale)\n",
    "    height = int(frame.shape[0]*scale)\n",
    "    dimensions = (width,height)\n",
    "    return cv.resize(frame, dimensions, interpolation = cv.INTER_AREA)\n",
    "\n",
    "pic = cv.imread('A:\\Movies\\Bhutan.jpg')\n",
    "image_resize = rescaleframe(pic,scale = 0.1)\n",
    "cv.imshow('nature',image_resize)\n",
    "\n",
    "gray = cv.cvtColor(image_resize,cv.COLOR_BGR2GRAY)\n",
    "cv.imshow('Gray Image',gray)\n",
    "\n",
    "gray_hist = cv.calcHist(gray, [0], None,[256],[0,256])\n",
    "\n",
    "plt.figure()\n",
    "plt.title('Grayscale Histogram')\n",
    "plt.xlabel('Bins')\n",
    "plt.ylabel('# of Pixels')\n",
    "plt.plot(gray_hist)\n",
    "plt.xlim([0,256])\n",
    "plt.show()\n",
    "\n",
    "cv.waitKey(0)"
   ]
  },
  {
   "cell_type": "markdown",
   "metadata": {},
   "source": [
    "# Computing Histogram with Masking"
   ]
  },
  {
   "cell_type": "code",
   "execution_count": 4,
   "metadata": {},
   "outputs": [
    {
     "data": {
      "image/png": "[encoded data removed]",
      "text/plain": [
       "<Figure size 432x288 with 1 Axes>"
      ]
     },
     "metadata": {
      "needs_background": "light"
     },
     "output_type": "display_data"
    },
    {
     "data": {
      "text/plain": [
       "-1"
      ]
     },
     "execution_count": 4,
     "metadata": {},
     "output_type": "execute_result"
    }
   ],
   "source": [
    "import cv2 as cv\n",
    "import numpy as np\n",
    "import matplotlib.pyplot as plt\n",
    "def rescaleframe(frame,scale = 0.75):\n",
    "    width = int(frame.shape[1]*scale)\n",
    "    height = int(frame.shape[0]*scale)\n",
    "    dimensions = (width,height)\n",
    "    return cv.resize(frame, dimensions, interpolation = cv.INTER_AREA)\n",
    "\n",
    "pic = cv.imread('A:\\Movies\\Bhutan.jpg')\n",
    "image_resize = rescaleframe(pic,scale = 0.1)\n",
    "cv.imshow('nature',image_resize)\n",
    "\n",
    "blank = np.zeros(image_resize.shape[:2], dtype = 'uint8')\n",
    "\n",
    "gray = cv.cvtColor(image_resize,cv.COLOR_BGR2GRAY)\n",
    "cv.imshow('Gray_image',gray)\n",
    "\n",
    "circle = cv.circle(blank,(image_resize.shape[1]//2,image_resize.shape[0]//2),100,255,-1)\n",
    "cv.imshow('Circle',circle)\n",
    "\n",
    "masked = cv.bitwise_and(gray,gray,mask=circle)\n",
    "cv.imshow('Masked_bhutan',masked)\n",
    "\n",
    "gray_hist = cv.calcHist([gray], [0], masked,[256],[0,256])\n",
    "\n",
    "plt.figure()\n",
    "plt.title('Grayscale Histogram')\n",
    "plt.xlabel('Bins')\n",
    "plt.ylabel('# of Pixels')\n",
    "plt.plot(gray_hist)\n",
    "plt.xlim([0,256])\n",
    "plt.show()\n",
    "\n",
    "cv.waitKey(0)"
   ]
  },
  {
   "cell_type": "markdown",
   "metadata": {},
   "source": [
    "# color Histogram"
   ]
  },
  {
   "cell_type": "code",
   "execution_count": 7,
   "metadata": {},
   "outputs": [
    {
     "data": {
      "image/png": "[encoded data removed]",
      "text/plain": [
       "<Figure size 432x288 with 1 Axes>"
      ]
     },
     "metadata": {
      "needs_background": "light"
     },
     "output_type": "display_data"
    },
    {
     "data": {
      "text/plain": [
       "-1"
      ]
     },
     "execution_count": 7,
     "metadata": {},
     "output_type": "execute_result"
    }
   ],
   "source": [
    "import cv2 as cv\n",
    "import numpy as np\n",
    "import matplotlib.pyplot as plt\n",
    "def rescaleframe(frame,scale = 0.75):\n",
    "    width = int(frame.shape[1]*scale)\n",
    "    height = int(frame.shape[0]*scale)\n",
    "    dimensions = (width,height)\n",
    "    return cv.resize(frame, dimensions, interpolation = cv.INTER_AREA)\n",
    "\n",
    "pic = cv.imread('A:\\Movies\\Bhutan.jpg')\n",
    "image_resize = rescaleframe(pic,scale = 0.1)\n",
    "cv.imshow('nature',image_resize)\n",
    "\n",
    "plt.figure()\n",
    "plt.title('color Histogram')\n",
    "plt.xlabel('Bins')\n",
    "plt.ylabel('# of Pixels')\n",
    "colors = ('b','g','r')\n",
    "for i,col in enumerate(colors):\n",
    "    hist = cv.calcHist([image_resize],[i],None,[255],[0,256])\n",
    "    plt.plot(hist,color = col)\n",
    "    plt.xlim([0,256])\n",
    "    \n",
    "plt.show()\n",
    "cv.waitKey(0)"
   ]
  },
  {
   "cell_type": "markdown",
   "metadata": {},
   "source": [
    "# Thresholdingand Binarizing"
   ]
  },
  {
   "cell_type": "code",
   "execution_count": 9,
   "metadata": {},
   "outputs": [
    {
     "data": {
      "text/plain": [
       "-1"
      ]
     },
     "execution_count": 9,
     "metadata": {},
     "output_type": "execute_result"
    }
   ],
   "source": [
    "import cv2 as cv\n",
    "import numpy as np\n",
    "import matplotlib.pyplot as plt\n",
    "def rescaleframe(frame,scale = 0.75):\n",
    "    width = int(frame.shape[1]*scale)\n",
    "    height = int(frame.shape[0]*scale)\n",
    "    dimensions = (width,height)\n",
    "    return cv.resize(frame, dimensions, interpolation = cv.INTER_AREA)\n",
    "\n",
    "pic = cv.imread('A:\\Movies\\Bhutan.jpg')\n",
    "image_resize = rescaleframe(pic,scale = 0.1)\n",
    "cv.imshow('nature',image_resize)\n",
    "\n",
    "gray = cv.cvtColor(image_resize,cv.COLOR_BGR2GRAY)\n",
    "cv.imshow('Gray',gray)\n",
    "\n",
    "#Thresholding\n",
    "threshold,thresh = cv.threshold(gray,150,220,cv.THRESH_BINARY) # where the pixel is less then 150(threshold value it will marked as zero(Black) ,if pixel value is gretaer than 150 marked as 255(White))\n",
    "cv.imshow('Threshholded_image',thresh)\n",
    "\n",
    "#inverse thresholding\n",
    "threshold,thresh_inv = cv.threshold(gray,150,220,cv.THRESH_BINARY_INV) # where the pixel is less then 150(threshold value it will marked as 255(white) ,if pixel value is gretaer than 150 marked as 0(Black))\n",
    "cv.imshow('Threshholded_image_inv',thresh_inv)\n",
    "\n",
    "#Adaptive Thresholding(Mean Method)\n",
    "adaptive_threshold_mean = cv.adaptiveThreshold(gray,255,cv.ADAPTIVE_THRESH_MEAN_C,cv.THRESH_BINARY,11,3)\n",
    "cv.imshow('ADpative_threshold_maen',adaptive_threshold)\n",
    "\n",
    "#Adaptive Thresholding(Gaussian Method)\n",
    "adaptive_threshold_gaussian = cv.adaptiveThreshold(gray,255,cv.ADAPTIVE_THRESH_GAUSSIAN_C,cv.THRESH_BINARY,11,3)\n",
    "cv.imshow('ADpative_threshold_Gaussian',adaptive_threshold_gaussian)\n",
    "\n",
    "cv.waitKey(0)"
   ]
  },
  {
   "cell_type": "markdown",
   "metadata": {},
   "source": [
    "# Edge Detection Technique"
   ]
  },
  {
   "cell_type": "code",
   "execution_count": 14,
   "metadata": {},
   "outputs": [
    {
     "data": {
      "text/plain": [
       "-1"
      ]
     },
     "execution_count": 14,
     "metadata": {},
     "output_type": "execute_result"
    }
   ],
   "source": [
    "import cv2 as cv\n",
    "import numpy as np\n",
    "import matplotlib.pyplot as plt\n",
    "def rescaleframe(frame,scale = 0.75):\n",
    "    width = int(frame.shape[1]*scale)\n",
    "    height = int(frame.shape[0]*scale)\n",
    "    dimensions = (width,height)\n",
    "    return cv.resize(frame, dimensions, interpolation = cv.INTER_AREA)\n",
    "\n",
    "pic = cv.imread('A:\\Movies\\Bhutan.jpg')\n",
    "image_resize = rescaleframe(pic,scale = 0.1)\n",
    "cv.imshow('nature',image_resize)\n",
    "\n",
    "gray = cv.cvtColor(image_resize,cv.COLOR_BGR2GRAY)\n",
    "cv.imshow('Gray',gray)\n",
    "\n",
    "#laplacian\n",
    "lap = cv.Laplacian(gray,cv.CV_64F)\n",
    "lap = np.uint8(np.absolute(lap))\n",
    "cv.imshow('Laplacian',lap)\n",
    "\n",
    "#Sobel Gradient\n",
    "sobelx = cv.Sobel(gray,cv.CV_64F,1,0)\n",
    "sobely = cv.Sobel(gray,cv.CV_64F,0,1)\n",
    "sobel_combined = cv.bitwise_or(sobelx,sobely)\n",
    "\n",
    "cv.imshow('Sobel_x',sobelx)\n",
    "cv.imshow('Sobel_y',sobely)\n",
    "cv.imshow('Sobel_combined',sobel_combined)\n",
    "\n",
    "#Canny\n",
    "canny = cv.Canny(gray,150,175)\n",
    "cv.imshow('Canny',canny)\n",
    "cv.waitKey(0)"
   ]
  },
  {
   "cell_type": "code",
   "execution_count": null,
   "metadata": {},
   "outputs": [],
   "source": []
  },
  {
   "cell_type": "code",
   "execution_count": null,
   "metadata": {},
   "outputs": [],
   "source": []
  },
  {
   "cell_type": "code",
   "execution_count": null,
   "metadata": {},
   "outputs": [],
   "source": []
  },
  {
   "cell_type": "code",
   "execution_count": null,
   "metadata": {},
   "outputs": [],
   "source": []
  },
  {
   "cell_type": "code",
   "execution_count": null,
   "metadata": {},
   "outputs": [],
   "source": []
  }
 ],
 "metadata": {
  "kernelspec": {
   "display_name": "Python 3",
   "language": "python",
   "name": "python3"
  },
  "language_info": {
   "codemirror_mode": {
    "name": "ipython",
    "version": 3
   },
   "file_extension": ".py",
   "mimetype": "text/x-python",
   "name": "python",
   "nbconvert_exporter": "python",
   "pygments_lexer": "ipython3",
   "version": "3.8.5"
  }
 },
 "nbformat": 4,
 "nbformat_minor": 4
}
