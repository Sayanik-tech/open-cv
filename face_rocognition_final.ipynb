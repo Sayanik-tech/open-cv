{
 "cells": [
  {
   "cell_type": "code",
   "execution_count": null,
   "metadata": {},
   "outputs": [],
   "source": [
    "import cv2 as cv\n",
    "import numpy as np\n",
    "import os\n",
    "\n",
    "people =[]\n",
    "for i in os.listdir(r'A:\\Open_cv\\face_family'):\n",
    "    people.append(i)\n",
    "    \n",
    "print(people)\n",
    "\n",
    "face_cascade = cv.CascadeClassifier('A:\\learnbay all downloads\\Data_Sets\\haar_face.xml')\n",
    "\n",
    "cap = cv.VideoCapture(0)\n",
    "cap.set(3,640)        # set Width\n",
    "cap.set(4,480)        # set height     \n",
    "\n",
    "features = np.load('features.npy',allow_pickle=True)\n",
    "labels = np.load('labels.npy',allow_pickle=True)\n",
    "\n",
    "face_recognizer = cv.face.LBPHFaceRecognizer_create()\n",
    "face_recognizer.read('face_trained.yml')\n",
    "\n",
    "     \n",
    "while True:\n",
    "    ret, img = cap.read()\n",
    "    img = cv.flip(img, 1)\n",
    "    gray = cv.cvtColor(img , cv.COLOR_BGR2GRAY)\n",
    "    faces = face_cascade.detectMultiScale(gray,1.1,10)\n",
    "\n",
    "\n",
    "    for (x,y,w,h) in faces:\n",
    "        faces_roi = gray[y:y+h,x:x+w]\n",
    "        roi_color = img[y:y+h, x:x+w]\n",
    "        label,confidence = face_recognizer.predict(faces_roi)\n",
    "        print(f'Label = {people[label]} with a confidence of {confidence}')\n",
    "        cv.putText(img, str(people[label]), (50,50), cv.FONT_HERSHEY_COMPLEX, 1.0,(255,0,0),thickness = 1)\n",
    "        #cv.putText(img, str(confidence), (10,10), cv.FONT_HERSHEY_COMPLEX, 1.0,(255,0,0),thickness = 1)\n",
    "        cv.rectangle(img, (x,y) , (x+w,y+h),(0,255,0),thickness = 2)\n",
    "    \n",
    "        cv.imshow('video',img)\n",
    "\n",
    "        k = cv.waitKey(30) & 0xff\n",
    "        if k == 27:\n",
    "            break                                                   # press 'ESC' to quit\n",
    "\n",
    "cap.release()\n",
    "cv.destroyAllWindows()"
   ]
  },
  {
   "cell_type": "code",
   "execution_count": null,
   "metadata": {},
   "outputs": [],
   "source": []
  },
  {
   "cell_type": "code",
   "execution_count": null,
   "metadata": {},
   "outputs": [],
   "source": []
  },
  {
   "cell_type": "code",
   "execution_count": null,
   "metadata": {},
   "outputs": [],
   "source": []
  }
 ],
 "metadata": {
  "kernelspec": {
   "display_name": "Python 3 (ipykernel)",
   "language": "python",
   "name": "python3"
  },
  "language_info": {
   "codemirror_mode": {
    "name": "ipython",
    "version": 3
   },
   "file_extension": ".py",
   "mimetype": "text/x-python",
   "name": "python",
   "nbconvert_exporter": "python",
   "pygments_lexer": "ipython3",
   "version": "3.8.5"
  }
 },
 "nbformat": 4,
 "nbformat_minor": 4
}
